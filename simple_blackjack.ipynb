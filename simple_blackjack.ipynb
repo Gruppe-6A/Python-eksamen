{
 "cells": [
  {
   "cell_type": "code",
   "execution_count": null,
   "metadata": {},
   "outputs": [],
   "source": [
    "example_deck = {1: 4, 2: 4, 3: 4, 4: 4, 5: 4, 6: 4, 7: 4, 8: 4, 9: 4, 10: 16}\n",
    "\n",
    "def simple(own_hand, dealer_hand, cards_in_deck):\n",
    "    chances = calc_chances(cards_in_deck)\n",
    "    dealer_end_hand = likeliest_dealer_hand(dealer_hand, cards_in_deck)\n",
    "    if own_hand <=11:\n",
    "        return \"Hit\"\n",
    "    \n",
    "    if dealer_end_hand > 21:\n",
    "        return \"Stand\"\n",
    "    \n",
    "    if own_hand>= dealer_end_hand:\n",
    "        return \"Stand\"\n",
    "    \n",
    "    chance_of_winning = 0.5\n",
    "    for key, value in chances.items():\n",
    "        if (own_hand +key) < dealer_end_hand:\n",
    "            chance_of_winning -= value\n",
    "        else:\n",
    "            chance_of_winning += value\n",
    "    if chance_of_winning > 0.5:\n",
    "        return \"Hit\"\n",
    "    else:\n",
    "        return \"Stand\"\n",
    "\n",
    "\n",
    "def calc_chances(cards_in_deck):\n",
    "    total_cards = sum(cards_in_deck.values())\n",
    "    chances = {}\n",
    "    for key,value in cards_in_deck.items():\n",
    "        chances[key] = cards_in_deck[key]/total_cards\n",
    "    return chances\n",
    "\n",
    "def likeliest_dealer_hand(dealer_hand, cards_in_deck):\n",
    "    while dealer_hand < 17:\n",
    "        new_card, cards_in_deck =  likeliest_card(cards_in_deck)\n",
    "        dealer_hand += new_card\n",
    "    return dealer_hand\n",
    "    \n",
    "\n",
    "def likeliest_card(cards_in_deck):\n",
    "    most_likely = max(cards_in_deck, key=cards_in_deck.get)\n",
    "    cards_in_deck[most_likely] -= 1\n",
    "    return most_likely, cards_in_deck\n",
    "\n",
    "print(likeliest_dealer_hand(7, example_deck))\n",
    "simple(18, 7, example_deck)"
   ]
  }
 ],
 "metadata": {
  "kernelspec": {
   "display_name": "Python 3",
   "language": "python",
   "name": "python3"
  },
  "language_info": {
   "codemirror_mode": {
    "name": "ipython",
    "version": 3
   },
   "file_extension": ".py",
   "mimetype": "text/x-python",
   "name": "python",
   "nbconvert_exporter": "python",
   "pygments_lexer": "ipython3",
   "version": "3.7.6"
  }
 },
 "nbformat": 4,
 "nbformat_minor": 4
}
