{
 "cells": [
  {
   "cell_type": "code",
   "execution_count": 27,
   "metadata": {},
   "outputs": [
    {
     "name": "stdout",
     "output_type": "stream",
     "text": [
      "0.2830983130277376\n",
      "0.5884114838921213\n"
     ]
    },
    {
     "data": {
      "text/plain": [
       "'Stand'"
      ]
     },
     "execution_count": 27,
     "metadata": {},
     "output_type": "execute_result"
    }
   ],
   "source": [
    "example_deck = {1: 4, 2: 4, 3: 4, 4: 4, 5: 4, 6: 4, 7: 4, 8: 4, 9: 4, 10: 16}\n",
    "\n",
    "def recursive_blackjack(player_hand, dealer_hand, deck):\n",
    "    chances = calc_chances(deck)\n",
    "    hit_chance = calc_hit(dealer_hand, player_hand, chances, 1)\n",
    "    stand_chance = calc_stand(dealer_hand, player_hand, chances, 1)\n",
    "    \n",
    "    #print(hit_chance)\n",
    "    #print(stand_chance)\n",
    "    \n",
    "    if stand_chance > hit_chance:\n",
    "        return \"Stand\"\n",
    "    else:\n",
    "        return \"Hit\"\n",
    "\n",
    "\n",
    "def calc_chances(cards_in_deck):\n",
    "    total_cards = sum(cards_in_deck.values())\n",
    "    chances = {}\n",
    "    for key,value in cards_in_deck.items():\n",
    "        chances[key] = cards_in_deck[key]/total_cards\n",
    "    return chances\n",
    "\n",
    "def calc_stand(dealer_hand, player_hand, chances, percentage):\n",
    "    success_rate = 0\n",
    "    if(dealer_hand < 17): #Find alle udfald dealer kan have, dealer skal hit under 17\n",
    "        for x in range(1,11):\n",
    "            success_rate += calc_stand(dealer_hand+x, player_hand, chances, percentage*chances[x])\n",
    "        return success_rate\n",
    "    \n",
    "    elif(dealer_hand>21): #Hvis dealer har over 21 vinder spilleren\n",
    "        return percentage\n",
    "    \n",
    "    elif(player_hand>dealer_hand): #Hvis spilleren har under 22 og højere end dealeren, spilleren vinder\n",
    "        return percentage\n",
    "    else:\n",
    "        return 0\n",
    "    \n",
    "def calc_hit(dealer_hand, player_hand, chances, percentage):\n",
    "    success_rate = 0\n",
    "    for x in range(1,11):\n",
    "        success_rate += chance_of_win(dealer_hand, player_hand+x, chances, chances[x])\n",
    "    return success_rate\n",
    "\n",
    "\n",
    "def chance_of_win(dealer_hand, player_hand, chances, percentage):\n",
    "    success_rate = 0\n",
    "    if(dealer_hand < 17): #Find alle udfald dealer kan have, dealer skal hit under 17\n",
    "        for x in range(1,11):\n",
    "            success_rate += chance_of_win(dealer_hand+x, player_hand, chances, percentage*chances[x])\n",
    "        return success_rate\n",
    "    \n",
    "    elif(dealer_hand>21): #Hvis dealer har over 21 vinder spilleren\n",
    "        return percentage\n",
    "    \n",
    "    elif(player_hand > 21): # Hvis spilleren har over 21 taber spilleren\n",
    "        return 0\n",
    "    \n",
    "    elif(player_hand>dealer_hand): #Hvis spilleren har under 22 og højere end dealeren, spilleren vinder\n",
    "        return percentage\n",
    "    \n",
    "    else: #Spilleren har mindre end dealeren, finder alle udfald når der bliver trukket et kort\n",
    "        for x in range(1, 11):\n",
    "            success_rate += chance_of_win(dealer_hand, player_hand+x, chances, percentage*chances[x])\n",
    "        return success_rate\n",
    "\n",
    "\n",
    "\n",
    "#print(calc_hit(10, 20, calc_chances(example_deck), 1))\n",
    "#print(calc_stand(10, 20, calc_chances(example_deck), 1))\n",
    "#recursive_blackjack(20, 10, example_deck)"
   ]
  }
 ],
 "metadata": {
  "kernelspec": {
   "display_name": "Python 3",
   "language": "python",
   "name": "python3"
  },
  "language_info": {
   "codemirror_mode": {
    "name": "ipython",
    "version": 3
   },
   "file_extension": ".py",
   "mimetype": "text/x-python",
   "name": "python",
   "nbconvert_exporter": "python",
   "pygments_lexer": "ipython3",
   "version": "3.7.6"
  }
 },
 "nbformat": 4,
 "nbformat_minor": 4
}
